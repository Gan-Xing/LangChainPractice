{
 "cells": [
  {
   "cell_type": "code",
   "execution_count": 1,
   "metadata": {},
   "outputs": [],
   "source": [
    "import os\n",
    "os.environ[\"OPENAI_API_KEY\"] = \"sk-换个可以用的key\""
   ]
  },
  {
   "cell_type": "code",
   "execution_count": 2,
   "metadata": {},
   "outputs": [
    {
     "name": "stdout",
     "output_type": "stream",
     "text": [
      "Collecting youtube-transcript-api\n",
      "  Using cached youtube_transcript_api-0.6.0-py3-none-any.whl (23 kB)\n",
      "Requirement already satisfied: requests in /Users/ganxing/opt/anaconda3/envs/python3_11/lib/python3.11/site-packages (from youtube-transcript-api) (2.29.0)\n",
      "Requirement already satisfied: charset-normalizer<4,>=2 in /Users/ganxing/opt/anaconda3/envs/python3_11/lib/python3.11/site-packages (from requests->youtube-transcript-api) (2.0.4)\n",
      "Requirement already satisfied: idna<4,>=2.5 in /Users/ganxing/opt/anaconda3/envs/python3_11/lib/python3.11/site-packages (from requests->youtube-transcript-api) (3.4)\n",
      "Requirement already satisfied: urllib3<1.27,>=1.21.1 in /Users/ganxing/opt/anaconda3/envs/python3_11/lib/python3.11/site-packages (from requests->youtube-transcript-api) (1.26.15)\n",
      "Requirement already satisfied: certifi>=2017.4.17 in /Users/ganxing/opt/anaconda3/envs/python3_11/lib/python3.11/site-packages (from requests->youtube-transcript-api) (2020.6.20)\n",
      "Installing collected packages: youtube-transcript-api\n",
      "Successfully installed youtube-transcript-api-0.6.0\n",
      "Note: you may need to restart the kernel to use updated packages.\n"
     ]
    }
   ],
   "source": [
    "pip install youtube-transcript-api"
   ]
  },
  {
   "cell_type": "code",
   "execution_count": 3,
   "metadata": {},
   "outputs": [
    {
     "name": "stdout",
     "output_type": "stream",
     "text": [
      "Collecting pytube\n",
      "  Downloading pytube-15.0.0-py3-none-any.whl (57 kB)\n",
      "\u001b[2K     \u001b[38;2;114;156;31m━━━━━━━━━━━━━━━━━━━━━━━━━━━━━━━━━━━━━━━\u001b[0m \u001b[32m57.6/57.6 kB\u001b[0m \u001b[31m276.1 kB/s\u001b[0m eta \u001b[36m0:00:00\u001b[0m1m194.8 kB/s\u001b[0m eta \u001b[36m0:00:01\u001b[0m\n",
      "\u001b[?25hInstalling collected packages: pytube\n",
      "Successfully installed pytube-15.0.0\n",
      "Note: you may need to restart the kernel to use updated packages.\n"
     ]
    }
   ],
   "source": [
    "pip install pytube"
   ]
  },
  {
   "cell_type": "code",
   "execution_count": 4,
   "metadata": {},
   "outputs": [],
   "source": [
    "from langchain.document_loaders import YoutubeLoader\n",
    "from langchain.llms import OpenAI\n",
    "from langchain.chains.summarize import load_summarize_chain"
   ]
  },
  {
   "cell_type": "code",
   "execution_count": 7,
   "metadata": {},
   "outputs": [],
   "source": [
    "loader = YoutubeLoader.from_youtube_url(\"https://www.youtube.com/watch?v=stTiThkEwxs\", add_video_info=True)"
   ]
  },
  {
   "cell_type": "code",
   "execution_count": 8,
   "metadata": {},
   "outputs": [],
   "source": [
    "result = loader.load()"
   ]
  },
  {
   "cell_type": "code",
   "execution_count": 9,
   "metadata": {},
   "outputs": [
    {
     "name": "stdout",
     "output_type": "stream",
     "text": [
      "<class 'list'>\n",
      "Found video from LAHWF that is 748 seconds long\n",
      "\n",
      "[Document(page_content=\"you may know skillshare for its classes and photography film and video and illustration but did you know skillshare has classes for career oriented skills too today is the new year to reinvent yourself traditional work jobs are not a one-size-fits-all learn how to design a career to fit you as for me I'm going to explore how to be more creative I mean I'm always trying to look for ways to figure out how to be more creative and productive I actually really like their app you can download videos and watch them later like on the airplane or something but so one class I liked is the confidence for creatives five exercises to grow your confidence and self-care Eugena Washington so one of the exercises is simply just writing down your stream of Consciousness your thoughts whatever it is and that helps clear a mind and that helps it be right for creativity another one is productivity today finding your flow for maximum productivity Kevin sisker CEO of finta from this class I basically I've learned to recognize when I'm in flow and the themes and the systems that create the flow stay the habits that all build up to a flow State and that helped me figure out how to get into a flow State anyway no goal is too small today is the first day of the rest of your life guys thinking about your future can be intimidating maybe you want to learn productivity tips to power more me time maybe the goal is to start building a personal brand skillshare teachers will take us step by step so if you're ready the first thousand people to use my link in the description will get a one month free trial thank you so much skillshare here's the video please write me a hundred word parody rap of the show succession can you tell me a dark scary factual story in 200 words here's some funny and awkward ideas for social experiments what controversies what's on my ass goats have you heard of chat gbt this isn't hmm this is going to change the world the new AI thing that everyone's talking about I had a little chat with chat gbt well you know I was messing around with it and I just want to show you how crazy this thing is it's an AI it came out in November last year and it's like better than Google which is insane it's like more precise and right to the point what's impressive to me is that you can like get it to write do creative tasks for you for example please write me a hundred word parody rap of the show succession yo it's the succession wrap gonna lay down some bars gonna spit some facts talking about the royal family they're so Elite living in their world man it's a treat there's Logan the king the head of the clan making moves pulling strings he's the man Kendall's the son he's trying to take control but with daddy issues like this he's in a hole then there's shiv she's the smart one of the bunch but with a marriage like courage she's in a bit of a crunch Romans the jester the clown of the show but don't underestimate him he's got a good flow so that's a succession wrap hope you had some fun now go watch the show and see what they've all done I mean it's not that clever of a rap but it's still very impressive that a machine did that like all off the cuff and you just told it to randomly do that so then I said please write me some funny awkward ideas for social experiments and this is where I was like okay so it it doesn't quite understand humor which is a good thing right here let me like here I'll tell you why these aren't funny here's some funny and awkward ideas for social experiments trying to start a conversation with strangers in an elevator but only speaking in a foreign language yeah a lot of these sound funny on paper like okay if we did that like oh hola como esta you know then the people will be like huh sorry I don't speak English and then pranks over like that's it like a lot of these are like they're they're Maybe funny for a split second and then it's over like there's no longevity to these conducting a survey on the street where you ask people for their opinion on something completely ridiculous like do you think cats should be allowed to drive cars they would just know and they just like keep you know like these are it's like a humor at like a fifth grade level you know trying to high-five strangers as they walk by but doing it in a way that makes it seem like you're trying to slap them uh okay so like pretending to hit people I don't know um so then I asked for what are some what are 10 funny historical facts in the 1800s people used to believe that women could get pregnant by sitting on a public toilet seat in ancient Rome it was considered fashionable to dye your hair blonde using pigeon dung Cleopatra the famous okay so then it just kind of regurgitate stuff and then I asked it do you plagiarize as an AI language model I do not intentionally plagiarize information I generate responses based on patterns and relationships found in the data provided to me during my training however since I do not have the ability to verify the accuracy of the information that has fed to me it is possible that some responses they generate may contain inaccuracies or may be similar to existing content on the Internet is the responsibility of the user to verify the accuracy and originality of any content generated by me additionally I encourage users to properly cite any information obtained from my responses to avoid potential plagiarism issues so yeah a big issue is like school education like this how would they use this all day to write me a summaries of Macbeth you know and but and it could pretty much do 90 of the work you know you just have to maybe twist it a little if it's too it sounds a little too robotic or flat write me a rap parody about Mr Beast all right let me drop you a Mr Beast rap parody talking about the man the legend you know he's free giving out cash and prizes like it ain't no thing helping people out man that's his game he's got a channel on YouTube millions of views making content that'll leave you amazed it's true from buying an island to planting a forest this guy's on a mission and he ain't gonna forfeit chorus Mr Beast he's got the cash dropping dollars like it's just trash making dreams come true that's his task he's the king of YouTube Can't Nobody surpass he'll give away a house or a new car help out a small business take them far giving out tips to servers you know he's legit making a difference in the world that's his big hit from Burgers to gaming he's done it all and when he's not creating he's having a ball with friends like Chandler and Chris this team's on Fire Can't Nobody dismiss so there you have it the Mr Beast rap hope you enjoyed it now let's give him a dab for all he's done and all he'll do Mr B's We Salute You insane like it's all coherent and makes sense and the Machine a machine did this you guys think that's insane or what let me know in the comments guys it's like anything you want can you write me a hundred word summary of Chevy Chase's career Chevy Chase is an American actor comedian writer who has been and then it says despite some controversies over the years Chase remains a beloved and influential figure in comedy so then I was like what controversies and then it says Chevy Chase has been involved in several controversies throughout his career some of the most notable controversies include on the set of community Chase reportedly made racist comments to his co-star Donald Glover which led to tension between the two actors Chase was reportedly difficult to work with on the set of Saturday Night Live often clashing with other cast members and writers he left the show after only one season citing creative differences in the 1990s Chase struggled with addiction to prescription painkillers and was arrested for drunk driving in recent years Chase has been criticized for making offensive comments about women and people with disabilities despite these controversies Chevy Chase remains a respected figure in comedy and entertainment with a career that has spent several decades why should I trust you as an AI language model I am programmed to provide information the best of my ability based on the data has been fed to me do not have emotions or biases and my response additionally while I strive to provide accurate and helpful responses I am not perfect and may sometimes make mistakes to provide incomplete information therefore it is always a good practice to verify the information about it okay and I just threw some weird curveball questions should I be democrat or republican as an AI language model I am programmed to remain neutral and impartial in political matters it is not appropriate for me to tell you which political party to support as political beliefs are personal and can vary based on an individual's values experiences and priorities ultimately the decision of whether to align with a political party or not is up to you and should be based on careful research and consideration of the policies principles and actions of the party in question it is important to stay informed about political issues to vote in accordance with your beliefs and values like I could do this all day just asking random and I did that for like a couple hours can you tell me a dark scary factual story in 200 words in the late 1800s a wealthy family in England employed a nanny to care for their young daughter The Nanny however was not what she seemed her real name was Amelia Dyer and she was a notorious baby farmer a person who took an unwanted infants for a fee and then neglected or killed them over the years Dyer took in countless babies and tallers many of whom never left her care alive she was known to strangle or suffocate her charges before disposing of their bodies often in the nearby Thames River Thames River I don't know how to pronounced eventually Dyer was caught and brought to trial where it was revealed that she had murdered as many as 400 infants over the course of her career she was found guilty and sentenced to death on June 10th 1886 she was hanged at Newgate Prison Dyer's crime shocked and horrified the public and her name has become synonymous with child murder and it in fantasized her story is chilling reminder of the dark side of human nature and the tragic consequences of greed and cruelty and then so so yeah wow you just keep this is kind of interesting is Human Centipede possible I don't even know what I'm asking with that like the concept of the human centipede involves surgically attaching multiple Humans Beings together mouth to anus to create a single organism this idea was explored in the horror film The Human Centipede 2009 and its sequels from a medical perspective such a procedure is highly unlikely to be successful or even possible the human digestive system is complex and the idea of creating a functioning centipede out of multiple individuals is not only medically unethical but also dangerous and potentially life-threatening furthermore furthermore the idea of surgically altering and connecting human beings without their consent is a violation of medical ethics and human rights it is important to remember that the human centipede is a fictional creation and should not be taken seriously or attempted in any way man thanks for watching goats um please uh put that like button in the trunk of a car and roll that car into a river and uh comment um about your thoughts on chat gbt I'll do a people on that probably I guess I don't know I love you and I I will see you I'll see you later\", metadata={'source': 'stTiThkEwxs', 'title': 'ChatGPT Rabbit Hole', 'description': None, 'view_count': 8784, 'thumbnail_url': 'https://i.ytimg.com/vi/stTiThkEwxs/hq720.jpg', 'publish_date': datetime.datetime(2023, 5, 8, 0, 0), 'length': 748, 'author': 'LAHWF'})]\n"
     ]
    }
   ],
   "source": [
    "print (type(result))\n",
    "print (f\"Found video from {result[0].metadata['author']} that is {result[0].metadata['length']} seconds long\")\n",
    "print (\"\")\n",
    "print (result)"
   ]
  },
  {
   "cell_type": "code",
   "execution_count": 11,
   "metadata": {},
   "outputs": [
    {
     "name": "stderr",
     "output_type": "stream",
     "text": [
      "/Users/ganxing/opt/anaconda3/envs/python3_11/lib/python3.11/site-packages/langchain/llms/openai.py:169: UserWarning: You are trying to use a chat model. This way of initializing it is no longer supported. Instead, please use: `from langchain.chat_models import ChatOpenAI`\n",
      "  warnings.warn(\n",
      "/Users/ganxing/opt/anaconda3/envs/python3_11/lib/python3.11/site-packages/langchain/llms/openai.py:687: UserWarning: You are trying to use a chat model. This way of initializing it is no longer supported. Instead, please use: `from langchain.chat_models import ChatOpenAI`\n",
      "  warnings.warn(\n"
     ]
    }
   ],
   "source": [
    "llm = OpenAI(model_name=\"gpt-3.5-turbo\",max_tokens=1024,temperature=0.9)"
   ]
  },
  {
   "cell_type": "code",
   "execution_count": 12,
   "metadata": {},
   "outputs": [
    {
     "data": {
      "text/plain": [
       "'The video discusses Skillshare and its classes for career-oriented skills, as well as the benefits of exploring creativity and productivity. The speaker also talks about AI language model Chat GBT and its potential uses, including writing raps and historical facts. They also mention comedian Chevy Chase and his career controversies. Additionally, the video includes a frightening story about a notorious baby farmer from the late 1800s and discusses the medical and ethical implications of the fictional concept of the human centipede.'"
      ]
     },
     "execution_count": 12,
     "metadata": {},
     "output_type": "execute_result"
    }
   ],
   "source": [
    "chain = load_summarize_chain(llm, chain_type=\"stuff\", verbose=False)\n",
    "chain.run(result)\n"
   ]
  },
  {
   "cell_type": "code",
   "execution_count": 13,
   "metadata": {},
   "outputs": [],
   "source": [
    "from langchain.text_splitter import RecursiveCharacterTextSplitter"
   ]
  },
  {
   "cell_type": "code",
   "execution_count": 14,
   "metadata": {},
   "outputs": [],
   "source": [
    "text_splitter = RecursiveCharacterTextSplitter(chunk_size=2000, chunk_overlap=0)"
   ]
  },
  {
   "cell_type": "code",
   "execution_count": 15,
   "metadata": {},
   "outputs": [],
   "source": [
    "texts = text_splitter.split_documents(result)"
   ]
  },
  {
   "cell_type": "markdown",
   "metadata": {},
   "source": []
  },
  {
   "cell_type": "code",
   "execution_count": 18,
   "metadata": {},
   "outputs": [
    {
     "name": "stdout",
     "output_type": "stream",
     "text": [
      "\n",
      "\n",
      "\u001b[1m> Entering new MapReduceDocumentsChain chain...\u001b[0m\n",
      "\n",
      "\n",
      "\u001b[1m> Entering new LLMChain chain...\u001b[0m\n",
      "Prompt after formatting:\n",
      "\u001b[32;1m\u001b[1;3mWrite a concise summary of the following:\n",
      "\n",
      "\n",
      "\"you may know skillshare for its classes and photography film and video and illustration but did you know skillshare has classes for career oriented skills too today is the new year to reinvent yourself traditional work jobs are not a one-size-fits-all learn how to design a career to fit you as for me I'm going to explore how to be more creative I mean I'm always trying to look for ways to figure out how to be more creative and productive I actually really like their app you can download videos and watch them later like on the airplane or something but so one class I liked is the confidence for creatives five exercises to grow your confidence and self-care Eugena Washington so one of the exercises is simply just writing down your stream of Consciousness your thoughts whatever it is and that helps clear a mind and that helps it be right for creativity another one is productivity today finding your flow for maximum productivity Kevin sisker CEO of finta from this class I basically I've learned to recognize when I'm in flow and the themes and the systems that create the flow stay the habits that all build up to a flow State and that helped me figure out how to get into a flow State anyway no goal is too small today is the first day of the rest of your life guys thinking about your future can be intimidating maybe you want to learn productivity tips to power more me time maybe the goal is to start building a personal brand skillshare teachers will take us step by step so if you're ready the first thousand people to use my link in the description will get a one month free trial thank you so much skillshare here's the video please write me a hundred word parody rap of the show succession can you tell me a dark scary factual story in 200 words here's some funny and awkward ideas for social experiments what controversies what's on my ass goats have you heard of chat gbt this isn't hmm this is going to change the world the new AI thing that everyone's talking about I had a\"\n",
      "\n",
      "\n",
      "CONCISE SUMMARY:\u001b[0m\n",
      "Prompt after formatting:\n",
      "\u001b[32;1m\u001b[1;3mWrite a concise summary of the following:\n",
      "\n",
      "\n",
      "\"little chat with chat gbt well you know I was messing around with it and I just want to show you how crazy this thing is it's an AI it came out in November last year and it's like better than Google which is insane it's like more precise and right to the point what's impressive to me is that you can like get it to write do creative tasks for you for example please write me a hundred word parody rap of the show succession yo it's the succession wrap gonna lay down some bars gonna spit some facts talking about the royal family they're so Elite living in their world man it's a treat there's Logan the king the head of the clan making moves pulling strings he's the man Kendall's the son he's trying to take control but with daddy issues like this he's in a hole then there's shiv she's the smart one of the bunch but with a marriage like courage she's in a bit of a crunch Romans the jester the clown of the show but don't underestimate him he's got a good flow so that's a succession wrap hope you had some fun now go watch the show and see what they've all done I mean it's not that clever of a rap but it's still very impressive that a machine did that like all off the cuff and you just told it to randomly do that so then I said please write me some funny awkward ideas for social experiments and this is where I was like okay so it it doesn't quite understand humor which is a good thing right here let me like here I'll tell you why these aren't funny here's some funny and awkward ideas for social experiments trying to start a conversation with strangers in an elevator but only speaking in a foreign language yeah a lot of these sound funny on paper like okay if we did that like oh hola como esta you know then the people will be like huh sorry I don't speak English and then pranks over like that's it like a lot of these are like they're they're Maybe funny for a split second and then it's over like there's no longevity to these conducting a survey on the street where you ask\"\n",
      "\n",
      "\n",
      "CONCISE SUMMARY:\u001b[0m\n",
      "Prompt after formatting:\n",
      "\u001b[32;1m\u001b[1;3mWrite a concise summary of the following:\n",
      "\n",
      "\n",
      "\"people for their opinion on something completely ridiculous like do you think cats should be allowed to drive cars they would just know and they just like keep you know like these are it's like a humor at like a fifth grade level you know trying to high-five strangers as they walk by but doing it in a way that makes it seem like you're trying to slap them uh okay so like pretending to hit people I don't know um so then I asked for what are some what are 10 funny historical facts in the 1800s people used to believe that women could get pregnant by sitting on a public toilet seat in ancient Rome it was considered fashionable to dye your hair blonde using pigeon dung Cleopatra the famous okay so then it just kind of regurgitate stuff and then I asked it do you plagiarize as an AI language model I do not intentionally plagiarize information I generate responses based on patterns and relationships found in the data provided to me during my training however since I do not have the ability to verify the accuracy of the information that has fed to me it is possible that some responses they generate may contain inaccuracies or may be similar to existing content on the Internet is the responsibility of the user to verify the accuracy and originality of any content generated by me additionally I encourage users to properly cite any information obtained from my responses to avoid potential plagiarism issues so yeah a big issue is like school education like this how would they use this all day to write me a summaries of Macbeth you know and but and it could pretty much do 90 of the work you know you just have to maybe twist it a little if it's too it sounds a little too robotic or flat write me a rap parody about Mr Beast all right let me drop you a Mr Beast rap parody talking about the man the legend you know he's free giving out cash and prizes like it ain't no thing helping people out man that's his game he's got a channel on YouTube millions of views making content that'll\"\n",
      "\n",
      "\n",
      "CONCISE SUMMARY:\u001b[0m\n",
      "Prompt after formatting:\n",
      "\u001b[32;1m\u001b[1;3mWrite a concise summary of the following:\n",
      "\n",
      "\n",
      "\"leave you amazed it's true from buying an island to planting a forest this guy's on a mission and he ain't gonna forfeit chorus Mr Beast he's got the cash dropping dollars like it's just trash making dreams come true that's his task he's the king of YouTube Can't Nobody surpass he'll give away a house or a new car help out a small business take them far giving out tips to servers you know he's legit making a difference in the world that's his big hit from Burgers to gaming he's done it all and when he's not creating he's having a ball with friends like Chandler and Chris this team's on Fire Can't Nobody dismiss so there you have it the Mr Beast rap hope you enjoyed it now let's give him a dab for all he's done and all he'll do Mr B's We Salute You insane like it's all coherent and makes sense and the Machine a machine did this you guys think that's insane or what let me know in the comments guys it's like anything you want can you write me a hundred word summary of Chevy Chase's career Chevy Chase is an American actor comedian writer who has been and then it says despite some controversies over the years Chase remains a beloved and influential figure in comedy so then I was like what controversies and then it says Chevy Chase has been involved in several controversies throughout his career some of the most notable controversies include on the set of community Chase reportedly made racist comments to his co-star Donald Glover which led to tension between the two actors Chase was reportedly difficult to work with on the set of Saturday Night Live often clashing with other cast members and writers he left the show after only one season citing creative differences in the 1990s Chase struggled with addiction to prescription painkillers and was arrested for drunk driving in recent years Chase has been criticized for making offensive comments about women and people with disabilities despite these controversies Chevy Chase remains a respected figure in comedy and\"\n",
      "\n",
      "\n",
      "CONCISE SUMMARY:\u001b[0m\n"
     ]
    },
    {
     "name": "stdout",
     "output_type": "stream",
     "text": [
      "\n",
      "\u001b[1m> Finished chain.\u001b[0m\n"
     ]
    },
    {
     "ename": "ValueError",
     "evalue": "Could not import tiktoken python package. This is needed in order to calculate get_num_tokens. Please install it with `pip install tiktoken`.",
     "output_type": "error",
     "traceback": [
      "\u001b[0;31m---------------------------------------------------------------------------\u001b[0m",
      "\u001b[0;31mModuleNotFoundError\u001b[0m                       Traceback (most recent call last)",
      "File \u001b[0;32m~/opt/anaconda3/envs/python3_11/lib/python3.11/site-packages/langchain/llms/openai.py:455\u001b[0m, in \u001b[0;36mBaseOpenAI.get_num_tokens\u001b[0;34m(self, text)\u001b[0m\n\u001b[1;32m    454\u001b[0m \u001b[38;5;28;01mtry\u001b[39;00m:\n\u001b[0;32m--> 455\u001b[0m     \u001b[38;5;28;01mimport\u001b[39;00m \u001b[38;5;21;01mtiktoken\u001b[39;00m\n\u001b[1;32m    456\u001b[0m \u001b[38;5;28;01mexcept\u001b[39;00m \u001b[38;5;167;01mImportError\u001b[39;00m:\n",
      "\u001b[0;31mModuleNotFoundError\u001b[0m: No module named 'tiktoken'",
      "\nDuring handling of the above exception, another exception occurred:\n",
      "\u001b[0;31mValueError\u001b[0m                                Traceback (most recent call last)",
      "Cell \u001b[0;32mIn[18], line 3\u001b[0m\n\u001b[1;32m      1\u001b[0m llm2 \u001b[38;5;241m=\u001b[39m OpenAI(max_tokens\u001b[38;5;241m=\u001b[39m\u001b[38;5;241m1024\u001b[39m,temperature\u001b[38;5;241m=\u001b[39m\u001b[38;5;241m0.9\u001b[39m)\n\u001b[1;32m      2\u001b[0m chain \u001b[38;5;241m=\u001b[39m load_summarize_chain(llm\u001b[38;5;241m=\u001b[39mllm2, chain_type\u001b[38;5;241m=\u001b[39m\u001b[38;5;124m\"\u001b[39m\u001b[38;5;124mmap_reduce\u001b[39m\u001b[38;5;124m\"\u001b[39m, verbose\u001b[38;5;241m=\u001b[39m\u001b[38;5;28;01mTrue\u001b[39;00m)\n\u001b[0;32m----> 3\u001b[0m chain\u001b[38;5;241m.\u001b[39mrun(texts[:\u001b[38;5;241m4\u001b[39m])\n",
      "File \u001b[0;32m~/opt/anaconda3/envs/python3_11/lib/python3.11/site-packages/langchain/chains/base.py:236\u001b[0m, in \u001b[0;36mChain.run\u001b[0;34m(self, callbacks, *args, **kwargs)\u001b[0m\n\u001b[1;32m    234\u001b[0m     \u001b[38;5;28;01mif\u001b[39;00m \u001b[38;5;28mlen\u001b[39m(args) \u001b[38;5;241m!=\u001b[39m \u001b[38;5;241m1\u001b[39m:\n\u001b[1;32m    235\u001b[0m         \u001b[38;5;28;01mraise\u001b[39;00m \u001b[38;5;167;01mValueError\u001b[39;00m(\u001b[38;5;124m\"\u001b[39m\u001b[38;5;124m`run` supports only one positional argument.\u001b[39m\u001b[38;5;124m\"\u001b[39m)\n\u001b[0;32m--> 236\u001b[0m     \u001b[38;5;28;01mreturn\u001b[39;00m \u001b[38;5;28mself\u001b[39m(args[\u001b[38;5;241m0\u001b[39m], callbacks\u001b[38;5;241m=\u001b[39mcallbacks)[\u001b[38;5;28mself\u001b[39m\u001b[38;5;241m.\u001b[39moutput_keys[\u001b[38;5;241m0\u001b[39m]]\n\u001b[1;32m    238\u001b[0m \u001b[38;5;28;01mif\u001b[39;00m kwargs \u001b[38;5;129;01mand\u001b[39;00m \u001b[38;5;129;01mnot\u001b[39;00m args:\n\u001b[1;32m    239\u001b[0m     \u001b[38;5;28;01mreturn\u001b[39;00m \u001b[38;5;28mself\u001b[39m(kwargs, callbacks\u001b[38;5;241m=\u001b[39mcallbacks)[\u001b[38;5;28mself\u001b[39m\u001b[38;5;241m.\u001b[39moutput_keys[\u001b[38;5;241m0\u001b[39m]]\n",
      "File \u001b[0;32m~/opt/anaconda3/envs/python3_11/lib/python3.11/site-packages/langchain/chains/base.py:140\u001b[0m, in \u001b[0;36mChain.__call__\u001b[0;34m(self, inputs, return_only_outputs, callbacks)\u001b[0m\n\u001b[1;32m    138\u001b[0m \u001b[38;5;28;01mexcept\u001b[39;00m (\u001b[38;5;167;01mKeyboardInterrupt\u001b[39;00m, \u001b[38;5;167;01mException\u001b[39;00m) \u001b[38;5;28;01mas\u001b[39;00m e:\n\u001b[1;32m    139\u001b[0m     run_manager\u001b[38;5;241m.\u001b[39mon_chain_error(e)\n\u001b[0;32m--> 140\u001b[0m     \u001b[38;5;28;01mraise\u001b[39;00m e\n\u001b[1;32m    141\u001b[0m run_manager\u001b[38;5;241m.\u001b[39mon_chain_end(outputs)\n\u001b[1;32m    142\u001b[0m \u001b[38;5;28;01mreturn\u001b[39;00m \u001b[38;5;28mself\u001b[39m\u001b[38;5;241m.\u001b[39mprep_outputs(inputs, outputs, return_only_outputs)\n",
      "File \u001b[0;32m~/opt/anaconda3/envs/python3_11/lib/python3.11/site-packages/langchain/chains/base.py:134\u001b[0m, in \u001b[0;36mChain.__call__\u001b[0;34m(self, inputs, return_only_outputs, callbacks)\u001b[0m\n\u001b[1;32m    128\u001b[0m run_manager \u001b[38;5;241m=\u001b[39m callback_manager\u001b[38;5;241m.\u001b[39mon_chain_start(\n\u001b[1;32m    129\u001b[0m     {\u001b[38;5;124m\"\u001b[39m\u001b[38;5;124mname\u001b[39m\u001b[38;5;124m\"\u001b[39m: \u001b[38;5;28mself\u001b[39m\u001b[38;5;241m.\u001b[39m\u001b[38;5;18m__class__\u001b[39m\u001b[38;5;241m.\u001b[39m\u001b[38;5;18m__name__\u001b[39m},\n\u001b[1;32m    130\u001b[0m     inputs,\n\u001b[1;32m    131\u001b[0m )\n\u001b[1;32m    132\u001b[0m \u001b[38;5;28;01mtry\u001b[39;00m:\n\u001b[1;32m    133\u001b[0m     outputs \u001b[38;5;241m=\u001b[39m (\n\u001b[0;32m--> 134\u001b[0m         \u001b[38;5;28mself\u001b[39m\u001b[38;5;241m.\u001b[39m_call(inputs, run_manager\u001b[38;5;241m=\u001b[39mrun_manager)\n\u001b[1;32m    135\u001b[0m         \u001b[38;5;28;01mif\u001b[39;00m new_arg_supported\n\u001b[1;32m    136\u001b[0m         \u001b[38;5;28;01melse\u001b[39;00m \u001b[38;5;28mself\u001b[39m\u001b[38;5;241m.\u001b[39m_call(inputs)\n\u001b[1;32m    137\u001b[0m     )\n\u001b[1;32m    138\u001b[0m \u001b[38;5;28;01mexcept\u001b[39;00m (\u001b[38;5;167;01mKeyboardInterrupt\u001b[39;00m, \u001b[38;5;167;01mException\u001b[39;00m) \u001b[38;5;28;01mas\u001b[39;00m e:\n\u001b[1;32m    139\u001b[0m     run_manager\u001b[38;5;241m.\u001b[39mon_chain_error(e)\n",
      "File \u001b[0;32m~/opt/anaconda3/envs/python3_11/lib/python3.11/site-packages/langchain/chains/combine_documents/base.py:84\u001b[0m, in \u001b[0;36mBaseCombineDocumentsChain._call\u001b[0;34m(self, inputs, run_manager)\u001b[0m\n\u001b[1;32m     82\u001b[0m \u001b[38;5;66;03m# Other keys are assumed to be needed for LLM prediction\u001b[39;00m\n\u001b[1;32m     83\u001b[0m other_keys \u001b[38;5;241m=\u001b[39m {k: v \u001b[38;5;28;01mfor\u001b[39;00m k, v \u001b[38;5;129;01min\u001b[39;00m inputs\u001b[38;5;241m.\u001b[39mitems() \u001b[38;5;28;01mif\u001b[39;00m k \u001b[38;5;241m!=\u001b[39m \u001b[38;5;28mself\u001b[39m\u001b[38;5;241m.\u001b[39minput_key}\n\u001b[0;32m---> 84\u001b[0m output, extra_return_dict \u001b[38;5;241m=\u001b[39m \u001b[38;5;28mself\u001b[39m\u001b[38;5;241m.\u001b[39mcombine_docs(\n\u001b[1;32m     85\u001b[0m     docs, callbacks\u001b[38;5;241m=\u001b[39m_run_manager\u001b[38;5;241m.\u001b[39mget_child(), \u001b[38;5;241m*\u001b[39m\u001b[38;5;241m*\u001b[39mother_keys\n\u001b[1;32m     86\u001b[0m )\n\u001b[1;32m     87\u001b[0m extra_return_dict[\u001b[38;5;28mself\u001b[39m\u001b[38;5;241m.\u001b[39moutput_key] \u001b[38;5;241m=\u001b[39m output\n\u001b[1;32m     88\u001b[0m \u001b[38;5;28;01mreturn\u001b[39;00m extra_return_dict\n",
      "File \u001b[0;32m~/opt/anaconda3/envs/python3_11/lib/python3.11/site-packages/langchain/chains/combine_documents/map_reduce.py:149\u001b[0m, in \u001b[0;36mMapReduceDocumentsChain.combine_docs\u001b[0;34m(self, docs, token_max, callbacks, **kwargs)\u001b[0m\n\u001b[1;32m    139\u001b[0m \u001b[38;5;124;03m\"\"\"Combine documents in a map reduce manner.\u001b[39;00m\n\u001b[1;32m    140\u001b[0m \n\u001b[1;32m    141\u001b[0m \u001b[38;5;124;03mCombine by mapping first chain over all documents, then reducing the results.\u001b[39;00m\n\u001b[1;32m    142\u001b[0m \u001b[38;5;124;03mThis reducing can be done recursively if needed (if there are many documents).\u001b[39;00m\n\u001b[1;32m    143\u001b[0m \u001b[38;5;124;03m\"\"\"\u001b[39;00m\n\u001b[1;32m    144\u001b[0m results \u001b[38;5;241m=\u001b[39m \u001b[38;5;28mself\u001b[39m\u001b[38;5;241m.\u001b[39mllm_chain\u001b[38;5;241m.\u001b[39mapply(\n\u001b[1;32m    145\u001b[0m     \u001b[38;5;66;03m# FYI - this is parallelized and so it is fast.\u001b[39;00m\n\u001b[1;32m    146\u001b[0m     [{\u001b[38;5;28mself\u001b[39m\u001b[38;5;241m.\u001b[39mdocument_variable_name: d\u001b[38;5;241m.\u001b[39mpage_content, \u001b[38;5;241m*\u001b[39m\u001b[38;5;241m*\u001b[39mkwargs} \u001b[38;5;28;01mfor\u001b[39;00m d \u001b[38;5;129;01min\u001b[39;00m docs],\n\u001b[1;32m    147\u001b[0m     callbacks\u001b[38;5;241m=\u001b[39mcallbacks,\n\u001b[1;32m    148\u001b[0m )\n\u001b[0;32m--> 149\u001b[0m \u001b[38;5;28;01mreturn\u001b[39;00m \u001b[38;5;28mself\u001b[39m\u001b[38;5;241m.\u001b[39m_process_results(\n\u001b[1;32m    150\u001b[0m     results, docs, token_max, callbacks\u001b[38;5;241m=\u001b[39mcallbacks, \u001b[38;5;241m*\u001b[39m\u001b[38;5;241m*\u001b[39mkwargs\n\u001b[1;32m    151\u001b[0m )\n",
      "File \u001b[0;32m~/opt/anaconda3/envs/python3_11/lib/python3.11/site-packages/langchain/chains/combine_documents/map_reduce.py:183\u001b[0m, in \u001b[0;36mMapReduceDocumentsChain._process_results\u001b[0;34m(self, results, docs, token_max, callbacks, **kwargs)\u001b[0m\n\u001b[1;32m    177\u001b[0m result_docs \u001b[38;5;241m=\u001b[39m [\n\u001b[1;32m    178\u001b[0m     Document(page_content\u001b[38;5;241m=\u001b[39mr[question_result_key], metadata\u001b[38;5;241m=\u001b[39mdocs[i]\u001b[38;5;241m.\u001b[39mmetadata)\n\u001b[1;32m    179\u001b[0m     \u001b[38;5;66;03m# This uses metadata from the docs, and the textual results from `results`\u001b[39;00m\n\u001b[1;32m    180\u001b[0m     \u001b[38;5;28;01mfor\u001b[39;00m i, r \u001b[38;5;129;01min\u001b[39;00m \u001b[38;5;28menumerate\u001b[39m(results)\n\u001b[1;32m    181\u001b[0m ]\n\u001b[1;32m    182\u001b[0m length_func \u001b[38;5;241m=\u001b[39m \u001b[38;5;28mself\u001b[39m\u001b[38;5;241m.\u001b[39mcombine_document_chain\u001b[38;5;241m.\u001b[39mprompt_length\n\u001b[0;32m--> 183\u001b[0m num_tokens \u001b[38;5;241m=\u001b[39m length_func(result_docs, \u001b[38;5;241m*\u001b[39m\u001b[38;5;241m*\u001b[39mkwargs)\n\u001b[1;32m    185\u001b[0m \u001b[38;5;28;01mdef\u001b[39;00m \u001b[38;5;21m_collapse_docs_func\u001b[39m(docs: List[Document], \u001b[38;5;241m*\u001b[39m\u001b[38;5;241m*\u001b[39mkwargs: Any) \u001b[38;5;241m-\u001b[39m\u001b[38;5;241m>\u001b[39m \u001b[38;5;28mstr\u001b[39m:\n\u001b[1;32m    186\u001b[0m     \u001b[38;5;28;01mreturn\u001b[39;00m \u001b[38;5;28mself\u001b[39m\u001b[38;5;241m.\u001b[39m_collapse_chain\u001b[38;5;241m.\u001b[39mrun(\n\u001b[1;32m    187\u001b[0m         input_documents\u001b[38;5;241m=\u001b[39mdocs, callbacks\u001b[38;5;241m=\u001b[39mcallbacks, \u001b[38;5;241m*\u001b[39m\u001b[38;5;241m*\u001b[39mkwargs\n\u001b[1;32m    188\u001b[0m     )\n",
      "File \u001b[0;32m~/opt/anaconda3/envs/python3_11/lib/python3.11/site-packages/langchain/chains/combine_documents/stuff.py:79\u001b[0m, in \u001b[0;36mStuffDocumentsChain.prompt_length\u001b[0;34m(self, docs, **kwargs)\u001b[0m\n\u001b[1;32m     77\u001b[0m inputs \u001b[38;5;241m=\u001b[39m \u001b[38;5;28mself\u001b[39m\u001b[38;5;241m.\u001b[39m_get_inputs(docs, \u001b[38;5;241m*\u001b[39m\u001b[38;5;241m*\u001b[39mkwargs)\n\u001b[1;32m     78\u001b[0m prompt \u001b[38;5;241m=\u001b[39m \u001b[38;5;28mself\u001b[39m\u001b[38;5;241m.\u001b[39mllm_chain\u001b[38;5;241m.\u001b[39mprompt\u001b[38;5;241m.\u001b[39mformat(\u001b[38;5;241m*\u001b[39m\u001b[38;5;241m*\u001b[39minputs)\n\u001b[0;32m---> 79\u001b[0m \u001b[38;5;28;01mreturn\u001b[39;00m \u001b[38;5;28mself\u001b[39m\u001b[38;5;241m.\u001b[39mllm_chain\u001b[38;5;241m.\u001b[39mllm\u001b[38;5;241m.\u001b[39mget_num_tokens(prompt)\n",
      "File \u001b[0;32m~/opt/anaconda3/envs/python3_11/lib/python3.11/site-packages/langchain/llms/openai.py:457\u001b[0m, in \u001b[0;36mBaseOpenAI.get_num_tokens\u001b[0;34m(self, text)\u001b[0m\n\u001b[1;32m    455\u001b[0m     \u001b[38;5;28;01mimport\u001b[39;00m \u001b[38;5;21;01mtiktoken\u001b[39;00m\n\u001b[1;32m    456\u001b[0m \u001b[38;5;28;01mexcept\u001b[39;00m \u001b[38;5;167;01mImportError\u001b[39;00m:\n\u001b[0;32m--> 457\u001b[0m     \u001b[38;5;28;01mraise\u001b[39;00m \u001b[38;5;167;01mValueError\u001b[39;00m(\n\u001b[1;32m    458\u001b[0m         \u001b[38;5;124m\"\u001b[39m\u001b[38;5;124mCould not import tiktoken python package. \u001b[39m\u001b[38;5;124m\"\u001b[39m\n\u001b[1;32m    459\u001b[0m         \u001b[38;5;124m\"\u001b[39m\u001b[38;5;124mThis is needed in order to calculate get_num_tokens. \u001b[39m\u001b[38;5;124m\"\u001b[39m\n\u001b[1;32m    460\u001b[0m         \u001b[38;5;124m\"\u001b[39m\u001b[38;5;124mPlease install it with `pip install tiktoken`.\u001b[39m\u001b[38;5;124m\"\u001b[39m\n\u001b[1;32m    461\u001b[0m     )\n\u001b[1;32m    463\u001b[0m enc \u001b[38;5;241m=\u001b[39m tiktoken\u001b[38;5;241m.\u001b[39mencoding_for_model(\u001b[38;5;28mself\u001b[39m\u001b[38;5;241m.\u001b[39mmodel_name)\n\u001b[1;32m    465\u001b[0m tokenized_text \u001b[38;5;241m=\u001b[39m enc\u001b[38;5;241m.\u001b[39mencode(\n\u001b[1;32m    466\u001b[0m     text,\n\u001b[1;32m    467\u001b[0m     allowed_special\u001b[38;5;241m=\u001b[39m\u001b[38;5;28mself\u001b[39m\u001b[38;5;241m.\u001b[39mallowed_special,\n\u001b[1;32m    468\u001b[0m     disallowed_special\u001b[38;5;241m=\u001b[39m\u001b[38;5;28mself\u001b[39m\u001b[38;5;241m.\u001b[39mdisallowed_special,\n\u001b[1;32m    469\u001b[0m )\n",
      "\u001b[0;31mValueError\u001b[0m: Could not import tiktoken python package. This is needed in order to calculate get_num_tokens. Please install it with `pip install tiktoken`."
     ]
    }
   ],
   "source": []
  },
  {
   "cell_type": "code",
   "execution_count": 19,
   "metadata": {},
   "outputs": [
    {
     "name": "stdout",
     "output_type": "stream",
     "text": [
      "Collecting tiktoken\n",
      "  Downloading tiktoken-0.4.0-cp311-cp311-macosx_10_9_x86_64.whl (797 kB)\n",
      "\u001b[2K     \u001b[38;2;114;156;31m━━━━━━━━━━━━━━━━━━━━━━━━━━━━━━━━━━━━━━━\u001b[0m \u001b[32m797.9/797.9 kB\u001b[0m \u001b[31m1.2 MB/s\u001b[0m eta \u001b[36m0:00:00\u001b[0mm eta \u001b[36m0:00:01\u001b[0m0:01\u001b[0m:02\u001b[0m\n",
      "\u001b[?25hCollecting regex>=2022.1.18 (from tiktoken)\n",
      "  Using cached regex-2023.5.5-cp311-cp311-macosx_10_9_x86_64.whl (294 kB)\n",
      "Requirement already satisfied: requests>=2.26.0 in /Users/ganxing/opt/anaconda3/envs/python3_11/lib/python3.11/site-packages (from tiktoken) (2.29.0)\n",
      "Requirement already satisfied: charset-normalizer<4,>=2 in /Users/ganxing/opt/anaconda3/envs/python3_11/lib/python3.11/site-packages (from requests>=2.26.0->tiktoken) (2.0.4)\n",
      "Requirement already satisfied: idna<4,>=2.5 in /Users/ganxing/opt/anaconda3/envs/python3_11/lib/python3.11/site-packages (from requests>=2.26.0->tiktoken) (3.4)\n",
      "Requirement already satisfied: urllib3<1.27,>=1.21.1 in /Users/ganxing/opt/anaconda3/envs/python3_11/lib/python3.11/site-packages (from requests>=2.26.0->tiktoken) (1.26.15)\n",
      "Requirement already satisfied: certifi>=2017.4.17 in /Users/ganxing/opt/anaconda3/envs/python3_11/lib/python3.11/site-packages (from requests>=2.26.0->tiktoken) (2020.6.20)\n",
      "Installing collected packages: regex, tiktoken\n",
      "Successfully installed regex-2023.5.5 tiktoken-0.4.0\n",
      "Note: you may need to restart the kernel to use updated packages.\n"
     ]
    }
   ],
   "source": [
    "pip install tiktoken"
   ]
  },
  {
   "cell_type": "code",
   "execution_count": 20,
   "metadata": {},
   "outputs": [
    {
     "name": "stdout",
     "output_type": "stream",
     "text": [
      "\n",
      "\n",
      "\u001b[1m> Entering new MapReduceDocumentsChain chain...\u001b[0m\n",
      "\n",
      "\n",
      "\u001b[1m> Entering new LLMChain chain...\u001b[0m\n",
      "Prompt after formatting:\n",
      "\u001b[32;1m\u001b[1;3mWrite a concise summary of the following:\n",
      "\n",
      "\n",
      "\"you may know skillshare for its classes and photography film and video and illustration but did you know skillshare has classes for career oriented skills too today is the new year to reinvent yourself traditional work jobs are not a one-size-fits-all learn how to design a career to fit you as for me I'm going to explore how to be more creative I mean I'm always trying to look for ways to figure out how to be more creative and productive I actually really like their app you can download videos and watch them later like on the airplane or something but so one class I liked is the confidence for creatives five exercises to grow your confidence and self-care Eugena Washington so one of the exercises is simply just writing down your stream of Consciousness your thoughts whatever it is and that helps clear a mind and that helps it be right for creativity another one is productivity today finding your flow for maximum productivity Kevin sisker CEO of finta from this class I basically I've learned to recognize when I'm in flow and the themes and the systems that create the flow stay the habits that all build up to a flow State and that helped me figure out how to get into a flow State anyway no goal is too small today is the first day of the rest of your life guys thinking about your future can be intimidating maybe you want to learn productivity tips to power more me time maybe the goal is to start building a personal brand skillshare teachers will take us step by step so if you're ready the first thousand people to use my link in the description will get a one month free trial thank you so much skillshare here's the video please write me a hundred word parody rap of the show succession can you tell me a dark scary factual story in 200 words here's some funny and awkward ideas for social experiments what controversies what's on my ass goats have you heard of chat gbt this isn't hmm this is going to change the world the new AI thing that everyone's talking about I had a\"\n",
      "\n",
      "\n",
      "CONCISE SUMMARY:\u001b[0m\n",
      "Prompt after formatting:\n",
      "\u001b[32;1m\u001b[1;3mWrite a concise summary of the following:\n",
      "\n",
      "\n",
      "\"little chat with chat gbt well you know I was messing around with it and I just want to show you how crazy this thing is it's an AI it came out in November last year and it's like better than Google which is insane it's like more precise and right to the point what's impressive to me is that you can like get it to write do creative tasks for you for example please write me a hundred word parody rap of the show succession yo it's the succession wrap gonna lay down some bars gonna spit some facts talking about the royal family they're so Elite living in their world man it's a treat there's Logan the king the head of the clan making moves pulling strings he's the man Kendall's the son he's trying to take control but with daddy issues like this he's in a hole then there's shiv she's the smart one of the bunch but with a marriage like courage she's in a bit of a crunch Romans the jester the clown of the show but don't underestimate him he's got a good flow so that's a succession wrap hope you had some fun now go watch the show and see what they've all done I mean it's not that clever of a rap but it's still very impressive that a machine did that like all off the cuff and you just told it to randomly do that so then I said please write me some funny awkward ideas for social experiments and this is where I was like okay so it it doesn't quite understand humor which is a good thing right here let me like here I'll tell you why these aren't funny here's some funny and awkward ideas for social experiments trying to start a conversation with strangers in an elevator but only speaking in a foreign language yeah a lot of these sound funny on paper like okay if we did that like oh hola como esta you know then the people will be like huh sorry I don't speak English and then pranks over like that's it like a lot of these are like they're they're Maybe funny for a split second and then it's over like there's no longevity to these conducting a survey on the street where you ask\"\n",
      "\n",
      "\n",
      "CONCISE SUMMARY:\u001b[0m\n",
      "Prompt after formatting:\n",
      "\u001b[32;1m\u001b[1;3mWrite a concise summary of the following:\n",
      "\n",
      "\n",
      "\"people for their opinion on something completely ridiculous like do you think cats should be allowed to drive cars they would just know and they just like keep you know like these are it's like a humor at like a fifth grade level you know trying to high-five strangers as they walk by but doing it in a way that makes it seem like you're trying to slap them uh okay so like pretending to hit people I don't know um so then I asked for what are some what are 10 funny historical facts in the 1800s people used to believe that women could get pregnant by sitting on a public toilet seat in ancient Rome it was considered fashionable to dye your hair blonde using pigeon dung Cleopatra the famous okay so then it just kind of regurgitate stuff and then I asked it do you plagiarize as an AI language model I do not intentionally plagiarize information I generate responses based on patterns and relationships found in the data provided to me during my training however since I do not have the ability to verify the accuracy of the information that has fed to me it is possible that some responses they generate may contain inaccuracies or may be similar to existing content on the Internet is the responsibility of the user to verify the accuracy and originality of any content generated by me additionally I encourage users to properly cite any information obtained from my responses to avoid potential plagiarism issues so yeah a big issue is like school education like this how would they use this all day to write me a summaries of Macbeth you know and but and it could pretty much do 90 of the work you know you just have to maybe twist it a little if it's too it sounds a little too robotic or flat write me a rap parody about Mr Beast all right let me drop you a Mr Beast rap parody talking about the man the legend you know he's free giving out cash and prizes like it ain't no thing helping people out man that's his game he's got a channel on YouTube millions of views making content that'll\"\n",
      "\n",
      "\n",
      "CONCISE SUMMARY:\u001b[0m\n",
      "Prompt after formatting:\n",
      "\u001b[32;1m\u001b[1;3mWrite a concise summary of the following:\n",
      "\n",
      "\n",
      "\"leave you amazed it's true from buying an island to planting a forest this guy's on a mission and he ain't gonna forfeit chorus Mr Beast he's got the cash dropping dollars like it's just trash making dreams come true that's his task he's the king of YouTube Can't Nobody surpass he'll give away a house or a new car help out a small business take them far giving out tips to servers you know he's legit making a difference in the world that's his big hit from Burgers to gaming he's done it all and when he's not creating he's having a ball with friends like Chandler and Chris this team's on Fire Can't Nobody dismiss so there you have it the Mr Beast rap hope you enjoyed it now let's give him a dab for all he's done and all he'll do Mr B's We Salute You insane like it's all coherent and makes sense and the Machine a machine did this you guys think that's insane or what let me know in the comments guys it's like anything you want can you write me a hundred word summary of Chevy Chase's career Chevy Chase is an American actor comedian writer who has been and then it says despite some controversies over the years Chase remains a beloved and influential figure in comedy so then I was like what controversies and then it says Chevy Chase has been involved in several controversies throughout his career some of the most notable controversies include on the set of community Chase reportedly made racist comments to his co-star Donald Glover which led to tension between the two actors Chase was reportedly difficult to work with on the set of Saturday Night Live often clashing with other cast members and writers he left the show after only one season citing creative differences in the 1990s Chase struggled with addiction to prescription painkillers and was arrested for drunk driving in recent years Chase has been criticized for making offensive comments about women and people with disabilities despite these controversies Chevy Chase remains a respected figure in comedy and\"\n",
      "\n",
      "\n",
      "CONCISE SUMMARY:\u001b[0m\n"
     ]
    },
    {
     "name": "stdout",
     "output_type": "stream",
     "text": [
      "\n",
      "\u001b[1m> Finished chain.\u001b[0m\n",
      "\n",
      "\n",
      "\u001b[1m> Entering new StuffDocumentsChain chain...\u001b[0m\n",
      "\n",
      "\n",
      "\u001b[1m> Entering new LLMChain chain...\u001b[0m\n",
      "Prompt after formatting:\n",
      "\u001b[32;1m\u001b[1;3mWrite a concise summary of the following:\n",
      "\n",
      "\n",
      "\" Skillshare is an online learning platform that offers courses to help people create their own career paths and become more creative and productive. One of the courses is a five-exercise program to help boost confidence and self-care. The platform also offers courses in productivity, personal branding, and social experiments, as well as a link to a one-month free trial. Additionally, it provides AI technology to help people stay up-to-date with the latest innovations.\n",
      "\n",
      " This article discusses a new AI technology which is better than Google and can be used to generate creative tasks such as parody raps and funny, awkward social experiments. The AI is able to generate results in real time and the example given was a parody rap about the show 'Succession'. The example also demonstrates how the AI is not yet able to understand humor.\n",
      "\n",
      " This text talks about an AI language model and its ability to generate content, such as funny facts about the 1800s, summaries of Macbeth, or rap parodies about Mr. Beast. Additionally, it mentions that it is the responsibility of the user to verify the accuracy and originality of any content generated by the AI model.\n",
      "\n",
      " Chevy Chase is a beloved American actor, comedian and writer, despite some controversy throughout his career, including racism accusations and reports of challenging behaviour on set. He has also struggled with addiction and been arrested for drunk driving. Despite these controversies, he remains a respected figure in comedy.\"\n",
      "\n",
      "\n",
      "CONCISE SUMMARY:\u001b[0m\n",
      "\n",
      "\u001b[1m> Finished chain.\u001b[0m\n",
      "\n",
      "\u001b[1m> Finished chain.\u001b[0m\n",
      "\n",
      "\u001b[1m> Finished chain.\u001b[0m\n"
     ]
    },
    {
     "data": {
      "text/plain": [
       "' This article discusses a new AI language model, offered by Skillshare, which can generate creative tasks such as parody raps and funny, awkward social experiments. Additionally, it covers the career of American actor, comedian, and writer Chevy Chase, who has been mired in controversy, including racism accusations and addiction struggles, yet is still respected in the comedy world.'"
      ]
     },
     "execution_count": 20,
     "metadata": {},
     "output_type": "execute_result"
    }
   ],
   "source": [
    "llm2 = OpenAI(temperature=0.9)\n",
    "chain = load_summarize_chain(llm=llm2, chain_type=\"map_reduce\", verbose=True)\n",
    "chain.run(texts[:4])"
   ]
  },
  {
   "cell_type": "code",
   "execution_count": 21,
   "metadata": {},
   "outputs": [],
   "source": [
    "youtube_url_list = [\"https://www.youtube.com/watch?v=AXq0QHUwmh8\", \"https://www.youtube.com/watch?v=EwHrjZxAT7g\"]\n",
    "\n",
    "texts = []\n",
    "\n",
    "text_splitter = RecursiveCharacterTextSplitter(chunk_size=2000, chunk_overlap=0)\n",
    "\n",
    "for url in youtube_url_list:\n",
    "    loader = YoutubeLoader.from_youtube_url(url, add_video_info=True)\n",
    "    result = loader.load()\n",
    "    \n",
    "    texts.extend(text_splitter.split_documents(result))"
   ]
  },
  {
   "cell_type": "code",
   "execution_count": 22,
   "metadata": {},
   "outputs": [
    {
     "data": {
      "text/plain": [
       "' This article covers how to construct a backyard golf green from gathering materials to maintenance. It also covers inclusion of an automated irrigation system and estimated cost of $10,500. It also follows the conversation of two actors, Bella and Pedro, who met on set due to COVID restrictions and talk about their first jobs and what their most prized possessions are.'"
      ]
     },
     "execution_count": 22,
     "metadata": {},
     "output_type": "execute_result"
    }
   ],
   "source": [
    "chain = load_summarize_chain(llm2, chain_type=\"map_reduce\", verbose=False)\n",
    "chain.run(texts)"
   ]
  },
  {
   "cell_type": "code",
   "execution_count": null,
   "metadata": {},
   "outputs": [],
   "source": []
  }
 ],
 "metadata": {
  "kernelspec": {
   "display_name": "Python 3 (ipykernel)",
   "language": "python",
   "name": "python3"
  },
  "language_info": {
   "codemirror_mode": {
    "name": "ipython",
    "version": 3
   },
   "file_extension": ".py",
   "mimetype": "text/x-python",
   "name": "python",
   "nbconvert_exporter": "python",
   "pygments_lexer": "ipython3",
   "version": "3.11.3"
  }
 },
 "nbformat": 4,
 "nbformat_minor": 5
}
